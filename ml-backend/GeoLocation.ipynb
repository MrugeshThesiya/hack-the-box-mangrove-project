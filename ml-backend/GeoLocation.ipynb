{
 "cells": [
  {
   "cell_type": "code",
   "execution_count": 1,
   "id": "8b0e76ee",
   "metadata": {},
   "outputs": [
    {
     "name": "stdout",
     "output_type": "stream",
     "text": [
      "Requirement already satisfied: geopandas in /media/mrugesh/58300FD9300FBCCE/Repos/hack-the-box-mangrove-project/.venv/lib/python3.12/site-packages (1.1.1)\n",
      "Requirement already satisfied: shapely in /media/mrugesh/58300FD9300FBCCE/Repos/hack-the-box-mangrove-project/.venv/lib/python3.12/site-packages (2.1.1)\n",
      "Requirement already satisfied: numpy>=1.24 in /media/mrugesh/58300FD9300FBCCE/Repos/hack-the-box-mangrove-project/.venv/lib/python3.12/site-packages (from geopandas) (2.3.2)\n",
      "Requirement already satisfied: pyogrio>=0.7.2 in /media/mrugesh/58300FD9300FBCCE/Repos/hack-the-box-mangrove-project/.venv/lib/python3.12/site-packages (from geopandas) (0.11.1)\n",
      "Requirement already satisfied: packaging in /media/mrugesh/58300FD9300FBCCE/Repos/hack-the-box-mangrove-project/.venv/lib/python3.12/site-packages (from geopandas) (25.0)\n",
      "Requirement already satisfied: pandas>=2.0.0 in /media/mrugesh/58300FD9300FBCCE/Repos/hack-the-box-mangrove-project/.venv/lib/python3.12/site-packages (from geopandas) (2.3.2)\n",
      "Requirement already satisfied: pyproj>=3.5.0 in /media/mrugesh/58300FD9300FBCCE/Repos/hack-the-box-mangrove-project/.venv/lib/python3.12/site-packages (from geopandas) (3.7.2)\n",
      "Requirement already satisfied: python-dateutil>=2.8.2 in /media/mrugesh/58300FD9300FBCCE/Repos/hack-the-box-mangrove-project/.venv/lib/python3.12/site-packages (from pandas>=2.0.0->geopandas) (2.9.0.post0)\n",
      "Requirement already satisfied: pytz>=2020.1 in /media/mrugesh/58300FD9300FBCCE/Repos/hack-the-box-mangrove-project/.venv/lib/python3.12/site-packages (from pandas>=2.0.0->geopandas) (2025.2)\n",
      "Requirement already satisfied: tzdata>=2022.7 in /media/mrugesh/58300FD9300FBCCE/Repos/hack-the-box-mangrove-project/.venv/lib/python3.12/site-packages (from pandas>=2.0.0->geopandas) (2025.2)\n",
      "Requirement already satisfied: certifi in /media/mrugesh/58300FD9300FBCCE/Repos/hack-the-box-mangrove-project/.venv/lib/python3.12/site-packages (from pyogrio>=0.7.2->geopandas) (2025.8.3)\n",
      "Requirement already satisfied: six>=1.5 in /media/mrugesh/58300FD9300FBCCE/Repos/hack-the-box-mangrove-project/.venv/lib/python3.12/site-packages (from python-dateutil>=2.8.2->pandas>=2.0.0->geopandas) (1.17.0)\n",
      "Note: you may need to restart the kernel to use updated packages.\n"
     ]
    }
   ],
   "source": [
    "%pip install geopandas shapely"
   ]
  },
  {
   "cell_type": "code",
   "execution_count": 3,
   "id": "ceada9da",
   "metadata": {},
   "outputs": [],
   "source": [
    "import geopandas as gpd\n",
    "\n",
    "# Load the shapefile\n",
    "mangrove_gdf = gpd.read_file('/media/mrugesh/58300FD9300FBCCE/Repos/hack-the-box-mangrove-project/ml-backend/data/gmw_v3_2020_vec.shp')"
   ]
  },
  {
   "cell_type": "code",
   "execution_count": 4,
   "id": "9500fe88",
   "metadata": {},
   "outputs": [],
   "source": [
    "from shapely.geometry import Point\n",
    "\n",
    "def is_in_mangrove_region(latitude, longitude, mangrove_gdf):\n",
    "    \"\"\"\n",
    "    Checks if a given GPS coordinate is within a mangrove region.\n",
    "\n",
    "    Args:\n",
    "        latitude (float): The latitude of the point.\n",
    "        longitude (float): The longitude of the point.\n",
    "        mangrove_gdf (GeoDataFrame): The GeoDataFrame containing mangrove polygons.\n",
    "\n",
    "    Returns:\n",
    "        bool: True if the point is in a mangrove region, False otherwise.\n",
    "    \"\"\"\n",
    "    # Create a Point object from the GPS coordinates\n",
    "    point = Point(longitude, latitude)\n",
    "\n",
    "    # Check if the point is contained within any of the mangrove polygons\n",
    "    return mangrove_gdf.geometry.contains(point).any()"
   ]
  },
  {
   "cell_type": "code",
   "execution_count": 5,
   "id": "553dd8d2",
   "metadata": {},
   "outputs": [
    {
     "name": "stdout",
     "output_type": "stream",
     "text": [
      "Output: Mangrove region\n"
     ]
    }
   ],
   "source": [
    "# Example GPS coordinates (replace with actual input)\n",
    "gps_latitude = 21.9497\n",
    "gps_longitude = 88.7995\n",
    "\n",
    "# Check if the coordinates are in a mangrove region\n",
    "is_mangrove = is_in_mangrove_region(gps_latitude, gps_longitude, mangrove_gdf)\n",
    "\n",
    "# Output the result\n",
    "if is_mangrove:\n",
    "    print(\"Output: Mangrove region\")\n",
    "else:\n",
    "    print(\"Output: Non-mangrove region\")"
   ]
  },
  {
   "cell_type": "code",
   "execution_count": 6,
   "id": "85462a7a",
   "metadata": {},
   "outputs": [
    {
     "name": "stdout",
     "output_type": "stream",
     "text": [
      "Requirement already satisfied: geopandas in /media/mrugesh/58300FD9300FBCCE/Repos/hack-the-box-mangrove-project/.venv/lib/python3.12/site-packages (1.1.1)\n",
      "Requirement already satisfied: pyarrow in /media/mrugesh/58300FD9300FBCCE/Repos/hack-the-box-mangrove-project/.venv/lib/python3.12/site-packages (21.0.0)\n",
      "Requirement already satisfied: numpy>=1.24 in /media/mrugesh/58300FD9300FBCCE/Repos/hack-the-box-mangrove-project/.venv/lib/python3.12/site-packages (from geopandas) (2.3.2)\n",
      "Requirement already satisfied: pyogrio>=0.7.2 in /media/mrugesh/58300FD9300FBCCE/Repos/hack-the-box-mangrove-project/.venv/lib/python3.12/site-packages (from geopandas) (0.11.1)\n",
      "Requirement already satisfied: packaging in /media/mrugesh/58300FD9300FBCCE/Repos/hack-the-box-mangrove-project/.venv/lib/python3.12/site-packages (from geopandas) (25.0)\n",
      "Requirement already satisfied: pandas>=2.0.0 in /media/mrugesh/58300FD9300FBCCE/Repos/hack-the-box-mangrove-project/.venv/lib/python3.12/site-packages (from geopandas) (2.3.2)\n",
      "Requirement already satisfied: pyproj>=3.5.0 in /media/mrugesh/58300FD9300FBCCE/Repos/hack-the-box-mangrove-project/.venv/lib/python3.12/site-packages (from geopandas) (3.7.2)\n",
      "Requirement already satisfied: shapely>=2.0.0 in /media/mrugesh/58300FD9300FBCCE/Repos/hack-the-box-mangrove-project/.venv/lib/python3.12/site-packages (from geopandas) (2.1.1)\n",
      "Requirement already satisfied: python-dateutil>=2.8.2 in /media/mrugesh/58300FD9300FBCCE/Repos/hack-the-box-mangrove-project/.venv/lib/python3.12/site-packages (from pandas>=2.0.0->geopandas) (2.9.0.post0)\n",
      "Requirement already satisfied: pytz>=2020.1 in /media/mrugesh/58300FD9300FBCCE/Repos/hack-the-box-mangrove-project/.venv/lib/python3.12/site-packages (from pandas>=2.0.0->geopandas) (2025.2)\n",
      "Requirement already satisfied: tzdata>=2022.7 in /media/mrugesh/58300FD9300FBCCE/Repos/hack-the-box-mangrove-project/.venv/lib/python3.12/site-packages (from pandas>=2.0.0->geopandas) (2025.2)\n",
      "Requirement already satisfied: certifi in /media/mrugesh/58300FD9300FBCCE/Repos/hack-the-box-mangrove-project/.venv/lib/python3.12/site-packages (from pyogrio>=0.7.2->geopandas) (2025.8.3)\n",
      "Requirement already satisfied: six>=1.5 in /media/mrugesh/58300FD9300FBCCE/Repos/hack-the-box-mangrove-project/.venv/lib/python3.12/site-packages (from python-dateutil>=2.8.2->pandas>=2.0.0->geopandas) (1.17.0)\n",
      "Note: you may need to restart the kernel to use updated packages.\n"
     ]
    }
   ],
   "source": [
    "%pip install geopandas pyarrow"
   ]
  },
  {
   "cell_type": "code",
   "execution_count": 7,
   "id": "dd1943d3",
   "metadata": {},
   "outputs": [
    {
     "name": "stdout",
     "output_type": "stream",
     "text": [
      "Will check for processed data at: data/mangrove_data.parquet\n",
      "\n",
      "Processed file not found. Running the full data processing pipeline...\n",
      "   - (Example) Creating dummy raw data...\n",
      "   - Raw data loaded.\n",
      "   - (Example) Processing data...\n",
      "   - Data processing complete.\n",
      "   - Saving processed data to data/mangrove_data.parquet...\n",
      "   - Save complete.\n",
      "\n",
      "--- Analysis can now proceed ---\n",
      "Final GeoDataFrame Info:\n",
      "<class 'geopandas.geodataframe.GeoDataFrame'>\n",
      "Index: 1 entries, 1 to 1\n",
      "Data columns (total 3 columns):\n",
      " #   Column     Non-Null Count  Dtype   \n",
      "---  ------     --------------  -----   \n",
      " 0   col1       1 non-null      object  \n",
      " 1   area_sqkm  1 non-null      float64 \n",
      " 2   geometry   1 non-null      geometry\n",
      "dtypes: float64(1), geometry(1), object(1)\n",
      "memory usage: 32.0+ bytes\n",
      "\n",
      "First 5 rows:\n",
      "         col1  area_sqkm         geometry\n",
      "1  mangrove_B       22.1  POINT (73 19.1)\n"
     ]
    }
   ],
   "source": [
    "import geopandas\n",
    "import os\n",
    "from shapely.geometry import Point\n",
    "\n",
    "# --- 1. Setup: Define paths relative to the current folder ---\n",
    "# The output will be saved in a 'data' subfolder inside your project directory.\n",
    "OUTPUT_FOLDER = 'data'\n",
    "os.makedirs(OUTPUT_FOLDER, exist_ok=True) # Creates the 'data' folder if it doesn't exist\n",
    "processed_file_path = os.path.join(OUTPUT_FOLDER, 'mangrove_data.parquet')\n",
    "\n",
    "print(f\"Will check for processed data at: {processed_file_path}\")\n",
    "\n",
    "\n",
    "# --- 2. Main Logic: Check if the processed file already exists ---\n",
    "if os.path.exists(processed_file_path):\n",
    "    # --- FAST PATH: Load the pre-saved data ---\n",
    "    print(\"\\nProcessed file found! Loading from local Parquet file...\")\n",
    "    mangrove_gdf = geopandas.read_parquet(processed_file_path)\n",
    "    print(\"Loading complete.\")\n",
    "\n",
    "else:\n",
    "    # --- SLOW PATH: Run this only the very first time ---\n",
    "    print(\"\\nProcessed file not found. Running the full data processing pipeline...\")\n",
    "\n",
    "    # --- TODO: REPLACE THIS SECTION WITH YOUR ACTUAL DATA LOADING ---\n",
    "    print(\"   - (Example) Creating dummy raw data...\")\n",
    "    d = {'col1': ['mangrove_A', 'mangrove_B'], 'area_sqkm': [10.5, 22.1], 'geometry': [Point(72.8, 19.0), Point(73.0, 19.1)]}\n",
    "    raw_gdf = geopandas.GeoDataFrame(d, crs=\"EPSG:4326\")\n",
    "    print(\"   - Raw data loaded.\")\n",
    "\n",
    "    print(\"   - (Example) Processing data...\")\n",
    "    mangrove_gdf = raw_gdf[raw_gdf['area_sqkm'] > 20].copy()\n",
    "    print(\"   - Data processing complete.\")\n",
    "    # --- END OF SECTION TO REPLACE ---\n",
    "\n",
    "\n",
    "    # 3. Save the final, processed GeoDataFrame for all future runs.\n",
    "    print(f\"   - Saving processed data to {processed_file_path}...\")\n",
    "    mangrove_gdf.to_parquet(processed_file_path)\n",
    "    print(\"   - Save complete.\")\n",
    "\n",
    "\n",
    "# --- 3. Continue your analysis below ---\n",
    "print(\"\\n--- Analysis can now proceed ---\")\n",
    "print(\"Final GeoDataFrame Info:\")\n",
    "mangrove_gdf.info()\n",
    "print(\"\\nFirst 5 rows:\")\n",
    "print(mangrove_gdf.head())"
   ]
  },
  {
   "cell_type": "code",
   "execution_count": 8,
   "id": "2d50d252",
   "metadata": {},
   "outputs": [
    {
     "name": "stdout",
     "output_type": "stream",
     "text": [
      "Requirement already satisfied: geopandas in /media/mrugesh/58300FD9300FBCCE/Repos/hack-the-box-mangrove-project/.venv/lib/python3.12/site-packages (1.1.1)\n",
      "Requirement already satisfied: pyarrow in /media/mrugesh/58300FD9300FBCCE/Repos/hack-the-box-mangrove-project/.venv/lib/python3.12/site-packages (21.0.0)\n",
      "Requirement already satisfied: fastapi[all] in /media/mrugesh/58300FD9300FBCCE/Repos/hack-the-box-mangrove-project/.venv/lib/python3.12/site-packages (0.116.1)\n",
      "Requirement already satisfied: starlette<0.48.0,>=0.40.0 in /media/mrugesh/58300FD9300FBCCE/Repos/hack-the-box-mangrove-project/.venv/lib/python3.12/site-packages (from fastapi[all]) (0.47.3)\n",
      "Requirement already satisfied: pydantic!=1.8,!=1.8.1,!=2.0.0,!=2.0.1,!=2.1.0,<3.0.0,>=1.7.4 in /media/mrugesh/58300FD9300FBCCE/Repos/hack-the-box-mangrove-project/.venv/lib/python3.12/site-packages (from fastapi[all]) (2.11.7)\n",
      "Requirement already satisfied: typing-extensions>=4.8.0 in /media/mrugesh/58300FD9300FBCCE/Repos/hack-the-box-mangrove-project/.venv/lib/python3.12/site-packages (from fastapi[all]) (4.15.0)\n",
      "Requirement already satisfied: fastapi-cli>=0.0.8 in /media/mrugesh/58300FD9300FBCCE/Repos/hack-the-box-mangrove-project/.venv/lib/python3.12/site-packages (from fastapi-cli[standard]>=0.0.8; extra == \"all\"->fastapi[all]) (0.0.8)\n",
      "Requirement already satisfied: httpx>=0.23.0 in /media/mrugesh/58300FD9300FBCCE/Repos/hack-the-box-mangrove-project/.venv/lib/python3.12/site-packages (from fastapi[all]) (0.28.1)\n",
      "Requirement already satisfied: jinja2>=3.1.5 in /media/mrugesh/58300FD9300FBCCE/Repos/hack-the-box-mangrove-project/.venv/lib/python3.12/site-packages (from fastapi[all]) (3.1.6)\n",
      "Requirement already satisfied: python-multipart>=0.0.18 in /media/mrugesh/58300FD9300FBCCE/Repos/hack-the-box-mangrove-project/.venv/lib/python3.12/site-packages (from fastapi[all]) (0.0.20)\n",
      "Requirement already satisfied: itsdangerous>=1.1.0 in /media/mrugesh/58300FD9300FBCCE/Repos/hack-the-box-mangrove-project/.venv/lib/python3.12/site-packages (from fastapi[all]) (2.2.0)\n",
      "Requirement already satisfied: pyyaml>=5.3.1 in /media/mrugesh/58300FD9300FBCCE/Repos/hack-the-box-mangrove-project/.venv/lib/python3.12/site-packages (from fastapi[all]) (6.0.2)\n",
      "Requirement already satisfied: ujson!=4.0.2,!=4.1.0,!=4.2.0,!=4.3.0,!=5.0.0,!=5.1.0,>=4.0.1 in /media/mrugesh/58300FD9300FBCCE/Repos/hack-the-box-mangrove-project/.venv/lib/python3.12/site-packages (from fastapi[all]) (5.11.0)\n",
      "Requirement already satisfied: orjson>=3.2.1 in /media/mrugesh/58300FD9300FBCCE/Repos/hack-the-box-mangrove-project/.venv/lib/python3.12/site-packages (from fastapi[all]) (3.11.3)\n",
      "Requirement already satisfied: email-validator>=2.0.0 in /media/mrugesh/58300FD9300FBCCE/Repos/hack-the-box-mangrove-project/.venv/lib/python3.12/site-packages (from fastapi[all]) (2.3.0)\n",
      "Requirement already satisfied: uvicorn>=0.12.0 in /media/mrugesh/58300FD9300FBCCE/Repos/hack-the-box-mangrove-project/.venv/lib/python3.12/site-packages (from uvicorn[standard]>=0.12.0; extra == \"all\"->fastapi[all]) (0.35.0)\n",
      "Requirement already satisfied: pydantic-settings>=2.0.0 in /media/mrugesh/58300FD9300FBCCE/Repos/hack-the-box-mangrove-project/.venv/lib/python3.12/site-packages (from fastapi[all]) (2.10.1)\n",
      "Requirement already satisfied: pydantic-extra-types>=2.0.0 in /media/mrugesh/58300FD9300FBCCE/Repos/hack-the-box-mangrove-project/.venv/lib/python3.12/site-packages (from fastapi[all]) (2.10.5)\n",
      "Requirement already satisfied: annotated-types>=0.6.0 in /media/mrugesh/58300FD9300FBCCE/Repos/hack-the-box-mangrove-project/.venv/lib/python3.12/site-packages (from pydantic!=1.8,!=1.8.1,!=2.0.0,!=2.0.1,!=2.1.0,<3.0.0,>=1.7.4->fastapi[all]) (0.7.0)\n",
      "Requirement already satisfied: pydantic-core==2.33.2 in /media/mrugesh/58300FD9300FBCCE/Repos/hack-the-box-mangrove-project/.venv/lib/python3.12/site-packages (from pydantic!=1.8,!=1.8.1,!=2.0.0,!=2.0.1,!=2.1.0,<3.0.0,>=1.7.4->fastapi[all]) (2.33.2)\n",
      "Requirement already satisfied: typing-inspection>=0.4.0 in /media/mrugesh/58300FD9300FBCCE/Repos/hack-the-box-mangrove-project/.venv/lib/python3.12/site-packages (from pydantic!=1.8,!=1.8.1,!=2.0.0,!=2.0.1,!=2.1.0,<3.0.0,>=1.7.4->fastapi[all]) (0.4.1)\n",
      "Requirement already satisfied: anyio<5,>=3.6.2 in /media/mrugesh/58300FD9300FBCCE/Repos/hack-the-box-mangrove-project/.venv/lib/python3.12/site-packages (from starlette<0.48.0,>=0.40.0->fastapi[all]) (4.10.0)\n",
      "Requirement already satisfied: idna>=2.8 in /media/mrugesh/58300FD9300FBCCE/Repos/hack-the-box-mangrove-project/.venv/lib/python3.12/site-packages (from anyio<5,>=3.6.2->starlette<0.48.0,>=0.40.0->fastapi[all]) (3.10)\n",
      "Requirement already satisfied: sniffio>=1.1 in /media/mrugesh/58300FD9300FBCCE/Repos/hack-the-box-mangrove-project/.venv/lib/python3.12/site-packages (from anyio<5,>=3.6.2->starlette<0.48.0,>=0.40.0->fastapi[all]) (1.3.1)\n",
      "Requirement already satisfied: numpy>=1.24 in /media/mrugesh/58300FD9300FBCCE/Repos/hack-the-box-mangrove-project/.venv/lib/python3.12/site-packages (from geopandas) (2.3.2)\n",
      "Requirement already satisfied: pyogrio>=0.7.2 in /media/mrugesh/58300FD9300FBCCE/Repos/hack-the-box-mangrove-project/.venv/lib/python3.12/site-packages (from geopandas) (0.11.1)\n",
      "Requirement already satisfied: packaging in /media/mrugesh/58300FD9300FBCCE/Repos/hack-the-box-mangrove-project/.venv/lib/python3.12/site-packages (from geopandas) (25.0)\n",
      "Requirement already satisfied: pandas>=2.0.0 in /media/mrugesh/58300FD9300FBCCE/Repos/hack-the-box-mangrove-project/.venv/lib/python3.12/site-packages (from geopandas) (2.3.2)\n",
      "Requirement already satisfied: pyproj>=3.5.0 in /media/mrugesh/58300FD9300FBCCE/Repos/hack-the-box-mangrove-project/.venv/lib/python3.12/site-packages (from geopandas) (3.7.2)\n",
      "Requirement already satisfied: shapely>=2.0.0 in /media/mrugesh/58300FD9300FBCCE/Repos/hack-the-box-mangrove-project/.venv/lib/python3.12/site-packages (from geopandas) (2.1.1)\n",
      "Requirement already satisfied: dnspython>=2.0.0 in /media/mrugesh/58300FD9300FBCCE/Repos/hack-the-box-mangrove-project/.venv/lib/python3.12/site-packages (from email-validator>=2.0.0->fastapi[all]) (2.7.0)\n",
      "Requirement already satisfied: typer>=0.15.1 in /media/mrugesh/58300FD9300FBCCE/Repos/hack-the-box-mangrove-project/.venv/lib/python3.12/site-packages (from fastapi-cli>=0.0.8->fastapi-cli[standard]>=0.0.8; extra == \"all\"->fastapi[all]) (0.17.0)\n",
      "Requirement already satisfied: rich-toolkit>=0.14.8 in /media/mrugesh/58300FD9300FBCCE/Repos/hack-the-box-mangrove-project/.venv/lib/python3.12/site-packages (from fastapi-cli>=0.0.8->fastapi-cli[standard]>=0.0.8; extra == \"all\"->fastapi[all]) (0.15.0)\n",
      "Requirement already satisfied: fastapi-cloud-cli>=0.1.1 in /media/mrugesh/58300FD9300FBCCE/Repos/hack-the-box-mangrove-project/.venv/lib/python3.12/site-packages (from fastapi-cli[standard]>=0.0.8; extra == \"all\"->fastapi[all]) (0.1.5)\n",
      "Requirement already satisfied: rignore>=0.5.1 in /media/mrugesh/58300FD9300FBCCE/Repos/hack-the-box-mangrove-project/.venv/lib/python3.12/site-packages (from fastapi-cloud-cli>=0.1.1->fastapi-cli[standard]>=0.0.8; extra == \"all\"->fastapi[all]) (0.6.4)\n",
      "Requirement already satisfied: sentry-sdk>=2.20.0 in /media/mrugesh/58300FD9300FBCCE/Repos/hack-the-box-mangrove-project/.venv/lib/python3.12/site-packages (from fastapi-cloud-cli>=0.1.1->fastapi-cli[standard]>=0.0.8; extra == \"all\"->fastapi[all]) (2.35.1)\n",
      "Requirement already satisfied: certifi in /media/mrugesh/58300FD9300FBCCE/Repos/hack-the-box-mangrove-project/.venv/lib/python3.12/site-packages (from httpx>=0.23.0->fastapi[all]) (2025.8.3)\n",
      "Requirement already satisfied: httpcore==1.* in /media/mrugesh/58300FD9300FBCCE/Repos/hack-the-box-mangrove-project/.venv/lib/python3.12/site-packages (from httpx>=0.23.0->fastapi[all]) (1.0.9)\n",
      "Requirement already satisfied: h11>=0.16 in /media/mrugesh/58300FD9300FBCCE/Repos/hack-the-box-mangrove-project/.venv/lib/python3.12/site-packages (from httpcore==1.*->httpx>=0.23.0->fastapi[all]) (0.16.0)\n",
      "Requirement already satisfied: MarkupSafe>=2.0 in /media/mrugesh/58300FD9300FBCCE/Repos/hack-the-box-mangrove-project/.venv/lib/python3.12/site-packages (from jinja2>=3.1.5->fastapi[all]) (3.0.2)\n",
      "Requirement already satisfied: python-dateutil>=2.8.2 in /media/mrugesh/58300FD9300FBCCE/Repos/hack-the-box-mangrove-project/.venv/lib/python3.12/site-packages (from pandas>=2.0.0->geopandas) (2.9.0.post0)\n",
      "Requirement already satisfied: pytz>=2020.1 in /media/mrugesh/58300FD9300FBCCE/Repos/hack-the-box-mangrove-project/.venv/lib/python3.12/site-packages (from pandas>=2.0.0->geopandas) (2025.2)\n",
      "Requirement already satisfied: tzdata>=2022.7 in /media/mrugesh/58300FD9300FBCCE/Repos/hack-the-box-mangrove-project/.venv/lib/python3.12/site-packages (from pandas>=2.0.0->geopandas) (2025.2)\n",
      "Requirement already satisfied: python-dotenv>=0.21.0 in /media/mrugesh/58300FD9300FBCCE/Repos/hack-the-box-mangrove-project/.venv/lib/python3.12/site-packages (from pydantic-settings>=2.0.0->fastapi[all]) (1.1.1)\n",
      "Requirement already satisfied: six>=1.5 in /media/mrugesh/58300FD9300FBCCE/Repos/hack-the-box-mangrove-project/.venv/lib/python3.12/site-packages (from python-dateutil>=2.8.2->pandas>=2.0.0->geopandas) (1.17.0)\n",
      "Requirement already satisfied: click>=8.1.7 in /media/mrugesh/58300FD9300FBCCE/Repos/hack-the-box-mangrove-project/.venv/lib/python3.12/site-packages (from rich-toolkit>=0.14.8->fastapi-cli>=0.0.8->fastapi-cli[standard]>=0.0.8; extra == \"all\"->fastapi[all]) (8.2.1)\n",
      "Requirement already satisfied: rich>=13.7.1 in /media/mrugesh/58300FD9300FBCCE/Repos/hack-the-box-mangrove-project/.venv/lib/python3.12/site-packages (from rich-toolkit>=0.14.8->fastapi-cli>=0.0.8->fastapi-cli[standard]>=0.0.8; extra == \"all\"->fastapi[all]) (14.1.0)\n",
      "Requirement already satisfied: markdown-it-py>=2.2.0 in /media/mrugesh/58300FD9300FBCCE/Repos/hack-the-box-mangrove-project/.venv/lib/python3.12/site-packages (from rich>=13.7.1->rich-toolkit>=0.14.8->fastapi-cli>=0.0.8->fastapi-cli[standard]>=0.0.8; extra == \"all\"->fastapi[all]) (4.0.0)\n",
      "Requirement already satisfied: pygments<3.0.0,>=2.13.0 in /media/mrugesh/58300FD9300FBCCE/Repos/hack-the-box-mangrove-project/.venv/lib/python3.12/site-packages (from rich>=13.7.1->rich-toolkit>=0.14.8->fastapi-cli>=0.0.8->fastapi-cli[standard]>=0.0.8; extra == \"all\"->fastapi[all]) (2.19.2)\n",
      "Requirement already satisfied: mdurl~=0.1 in /media/mrugesh/58300FD9300FBCCE/Repos/hack-the-box-mangrove-project/.venv/lib/python3.12/site-packages (from markdown-it-py>=2.2.0->rich>=13.7.1->rich-toolkit>=0.14.8->fastapi-cli>=0.0.8->fastapi-cli[standard]>=0.0.8; extra == \"all\"->fastapi[all]) (0.1.2)\n",
      "Requirement already satisfied: urllib3>=1.26.11 in /media/mrugesh/58300FD9300FBCCE/Repos/hack-the-box-mangrove-project/.venv/lib/python3.12/site-packages (from sentry-sdk>=2.20.0->fastapi-cloud-cli>=0.1.1->fastapi-cli[standard]>=0.0.8; extra == \"all\"->fastapi[all]) (2.5.0)\n",
      "Requirement already satisfied: shellingham>=1.3.0 in /media/mrugesh/58300FD9300FBCCE/Repos/hack-the-box-mangrove-project/.venv/lib/python3.12/site-packages (from typer>=0.15.1->fastapi-cli>=0.0.8->fastapi-cli[standard]>=0.0.8; extra == \"all\"->fastapi[all]) (1.5.4)\n",
      "Requirement already satisfied: httptools>=0.6.3 in /media/mrugesh/58300FD9300FBCCE/Repos/hack-the-box-mangrove-project/.venv/lib/python3.12/site-packages (from uvicorn[standard]>=0.12.0; extra == \"all\"->fastapi[all]) (0.6.4)\n",
      "Requirement already satisfied: uvloop>=0.15.1 in /media/mrugesh/58300FD9300FBCCE/Repos/hack-the-box-mangrove-project/.venv/lib/python3.12/site-packages (from uvicorn[standard]>=0.12.0; extra == \"all\"->fastapi[all]) (0.21.0)\n",
      "Requirement already satisfied: watchfiles>=0.13 in /media/mrugesh/58300FD9300FBCCE/Repos/hack-the-box-mangrove-project/.venv/lib/python3.12/site-packages (from uvicorn[standard]>=0.12.0; extra == \"all\"->fastapi[all]) (1.1.0)\n",
      "Requirement already satisfied: websockets>=10.4 in /media/mrugesh/58300FD9300FBCCE/Repos/hack-the-box-mangrove-project/.venv/lib/python3.12/site-packages (from uvicorn[standard]>=0.12.0; extra == \"all\"->fastapi[all]) (15.0.1)\n",
      "Note: you may need to restart the kernel to use updated packages.\n"
     ]
    }
   ],
   "source": [
    "%pip install \"fastapi[all]\" geopandas pyarrow"
   ]
  },
  {
   "cell_type": "code",
   "execution_count": 9,
   "id": "296a64d0",
   "metadata": {},
   "outputs": [
    {
     "name": "stdout",
     "output_type": "stream",
     "text": [
      "Processed file not found. Loading from shapefile: /media/mrugesh/58300FD9300FBCCE/Repos/hack-the-box-mangrove-project/ml-backend/data/gmw_v3_2020_vec.shp\n",
      "Saving to Parquet file for faster loading next time: processed_data/mangrove_data.parquet\n",
      "--- Mangrove data loaded successfully! ---\n",
      "\n",
      "Checking coordinate: (Lat: 23.1568, Lon: 72.6757)\n",
      "❌ Result: Non-mangrove region\n"
     ]
    }
   ],
   "source": [
    "import geopandas as gpd\n",
    "import os\n",
    "from shapely.geometry import Point\n",
    "\n",
    "# --- 1. SETUP: Define your file paths ---\n",
    "# IMPORTANT: Update this path to where your shapefile is located.\n",
    "SHAPEFILE_PATH = '/media/mrugesh/58300FD9300FBCCE/Repos/hack-the-box-mangrove-project/ml-backend/data/gmw_v3_2020_vec.shp'\n",
    "\n",
    "# Define a folder to store the fast-loading processed data.\n",
    "OUTPUT_FOLDER = 'processed_data'\n",
    "os.makedirs(OUTPUT_FOLDER, exist_ok=True)\n",
    "PROCESSED_FILE_PATH = os.path.join(OUTPUT_FOLDER, 'mangrove_data.parquet')\n",
    "\n",
    "# --- 2. DATA LOADING: Load fast file if available, otherwise process the slow one ---\n",
    "if os.path.exists(PROCESSED_FILE_PATH):\n",
    "    # FAST PATH: If we've processed this before, load the quick Parquet file.\n",
    "    print(f\"Loading from fast Parquet file: {PROCESSED_FILE_PATH}\")\n",
    "    mangrove_gdf = gpd.read_parquet(PROCESSED_FILE_PATH)\n",
    "else:\n",
    "    # SLOW PATH: First time running. Load the large shapefile.\n",
    "    print(f\"Processed file not found. Loading from shapefile: {SHAPEFILE_PATH}\")\n",
    "    mangrove_gdf = gpd.read_file(SHAPEFILE_PATH)\n",
    "    \n",
    "    # Optional: You can add any data cleaning or processing steps here.\n",
    "    # For example, simplifying geometries or removing unnecessary columns.\n",
    "    \n",
    "    # Save the processed data to a Parquet file for future runs.\n",
    "    print(f\"Saving to Parquet file for faster loading next time: {PROCESSED_FILE_PATH}\")\n",
    "    mangrove_gdf.to_parquet(PROCESSED_FILE_PATH)\n",
    "\n",
    "print(\"--- Mangrove data loaded successfully! ---\")\n",
    "\n",
    "\n",
    "# --- 3. ANALYSIS FUNCTION: (This is your function, it's already perfect) ---\n",
    "def is_in_mangrove_region(latitude, longitude, gdf):\n",
    "    \"\"\"\n",
    "    Checks if a given GPS coordinate is within a mangrove region.\n",
    "    \"\"\"\n",
    "    point_to_check = Point(longitude, latitude)\n",
    "    # Check if the point is contained within any of the mangrove polygons\n",
    "    return gdf.geometry.contains(point_to_check).any()\n",
    "\n",
    "\n",
    "# --- 4. EXAMPLE USAGE: Test a coordinate ---\n",
    "# Coordinates for a known mangrove area (Sundarbans, India)\n",
    "gps_latitude = 23.1568\n",
    "gps_longitude = 72.6757\n",
    "\n",
    "print(f\"\\nChecking coordinate: (Lat: {gps_latitude}, Lon: {gps_longitude})\")\n",
    "\n",
    "# Check if the coordinates are in a mangrove region\n",
    "is_mangrove = is_in_mangrove_region(gps_latitude, gps_longitude, mangrove_gdf)\n",
    "\n",
    "# Output the result\n",
    "if is_mangrove:\n",
    "    print(\"✅ Result: Mangrove region\")\n",
    "else:\n",
    "    print(\"❌ Result: Non-mangrove region\")"
   ]
  }
 ],
 "metadata": {
  "kernelspec": {
   "display_name": ".venv",
   "language": "python",
   "name": "python3"
  },
  "language_info": {
   "codemirror_mode": {
    "name": "ipython",
    "version": 3
   },
   "file_extension": ".py",
   "mimetype": "text/x-python",
   "name": "python",
   "nbconvert_exporter": "python",
   "pygments_lexer": "ipython3",
   "version": "3.12.3"
  }
 },
 "nbformat": 4,
 "nbformat_minor": 5
}
